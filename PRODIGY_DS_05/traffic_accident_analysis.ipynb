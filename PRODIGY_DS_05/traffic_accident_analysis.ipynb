{
 "cells": [
  {
   "cell_type": "markdown",
   "metadata": {},
   "source": [
    "# Traffic Accident Analysis\n",
    "### Author: DIKSHA KUMARI\n",
    "### Date: 2024-10-07\n",
    "\n",
    "This notebook analyzes traffic accident data to identify patterns related to road conditions,\n",
    "weather, and time of day. It also visualizes accident hotspots and contributing factors."
   ]
  },
  {
   "cell_type": "code",
   "execution_count": null,
   "metadata": {},
   "outputs": [],
   "source": [
    "# 1. Load Libraries\n",
    "import pandas as pd\n",
    "import matplotlib.pyplot as plt\n",
    "import seaborn as sns\n",
    "\n",
    "# Set Seaborn style\n",
    "sns.set(style='whitegrid')"
   ]
  },
  {
   "cell_type": "code",
   "execution_count": null,
   "metadata": {},
   "outputs": [],
   "source": [
    "# 2. Load Dataset\n",
    "data = pd.read_csv('traffic_accidents.csv')\n",
    "\n",
    "# Display the first few rows of the dataset\n",
    "data.head()"
   ]
  },
  {
   "cell_type": "code",
   "execution_count": null,
   "metadata": {},
   "outputs": [],
   "source": [
    "# 3. Data Cleaning\n",
    "# Check for missing values\n",
    "print(data.isnull().sum())\n",
    "\n",
    "# Fill or drop missing values as needed\n",
    "data.dropna(inplace=True)\n",
    "\n",
    "# Convert date column to datetime\n",
    "data['date'] = pd.to_datetime(data['date'])"
   ]
  },
  {
   "cell_type": "code",
   "execution_count": null,
   "metadata": {},
   "outputs": [],
   "source": [
    "# 4. Exploratory Data Analysis\n",
    "# Analyze accidents by time of day\n",
    "data['hour'] = data['date'].dt.hour\n",
    "accidents_by_hour = data.groupby('hour').size()\n",
    "\n",
    "# Plot accidents by hour\n",
    "plt.figure(figsize=(10, 6))\n",
    "sns.barplot(x=accidents_by_hour.index, y=accidents_by_hour.values)\n",
    "plt.title('Accidents by Hour of Day')\n",
    "plt.xlabel('Hour')\n",
    "plt.ylabel('Number of Accidents')\n",
    "plt.xticks(range(0, 24))\n",
    "plt.grid()\n",
    "plt.show()"
   ]
  },
  {
   "cell_type": "code",
   "execution_count": null,
   "metadata": {},
   "outputs": [],
   "source": [
    "# 5. Identify Patterns\n",
    "# Analyze by road conditions and weather\n",
    "road_conditions = data['road_condition'].value_counts()\n",
    "weather_conditions = data['weather'].value_counts()\n",
    "\n",
    "# Display road conditions and weather\n",
    "print('Road Conditions:')\n",
    "print(road_conditions)\n",
    "print('\\nWeather Conditions:')\n",
    "print(weather_conditions)"
   ]
  },
  {
   "cell_type": "code",
   "execution_count": null,
   "metadata": {},
   "outputs": [],
   "source": [
    "# 6. Visualize Hotspots\n",
    "plt.figure(figsize=(10, 6))\n",
    "sns.scatterplot(x=data['longitude'], y=data['latitude'], hue=data['weather'], alpha=0.5)\n",
    "plt.title('Accident Hotspots by Weather Conditions')\n",
    "plt.xlabel('Longitude')\n",
    "plt.ylabel('Latitude')\n",
    "plt.legend()\n",
    "plt.grid()\n",
    "plt.show()"
   ]
  },
  {
   "cell_type": "markdown",
   "metadata": {},
   "source": [
    "# Conclusion\n",
    "This analysis highlights the times and conditions under which traffic accidents are more likely to occur.\n",
    "Further analysis can be conducted to develop strategies for improving road safety."
   ]
  }
 ],
 "metadata": {
  "kernelspec": {
   "display_name": "Python 3",
   "language": "python",
   "name": "python3"
  },
  "language_info": {
   "codemirror_mode": {
    "name": "ipython",
    "version": 3
   },
   "file_extension": ".py",
   "mimetype": "text/x-python",
   "name": "python",
   "nbconvert_exporter": "python",
   "pygments_lexer": "ipython3",
   "version": "3.8.5"
  }
 },
 "nbformat": 4,
 "nbformat_minor": 4
}
